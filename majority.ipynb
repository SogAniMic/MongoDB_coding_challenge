{
 "cells": [
  {
   "cell_type": "markdown",
   "id": "a3ebbba9",
   "metadata": {},
   "source": [
    "# Given a list of elements, find the majority element, which appears more than half the time (> floor(len(lst) / 2.0)).\n",
    "\n",
    "You can assume that such element exists.\n",
    "\n",
    "For example, given [1, 2, 1, 1, 3, 4, 0], return 1."
   ]
  },
  {
   "cell_type": "code",
   "execution_count": 1,
   "id": "559ea819",
   "metadata": {},
   "outputs": [],
   "source": [
    "def majority(elements):\n",
    "    for i, e in enumerate(elements):\n",
    "        if i == 0 or count == 0:\n",
    "            majority = e\n",
    "            count = 1\n",
    "        elif majority == e:\n",
    "            count += 1\n",
    "        else:\n",
    "            count -= 1\n",
    "    return majority"
   ]
  },
  {
   "cell_type": "code",
   "execution_count": null,
   "id": "fdcf5d37",
   "metadata": {},
   "outputs": [],
   "source": []
  }
 ],
 "metadata": {
  "kernelspec": {
   "display_name": "Python 3 (ipykernel)",
   "language": "python",
   "name": "python3"
  },
  "language_info": {
   "codemirror_mode": {
    "name": "ipython",
    "version": 3
   },
   "file_extension": ".py",
   "mimetype": "text/x-python",
   "name": "python",
   "nbconvert_exporter": "python",
   "pygments_lexer": "ipython3",
   "version": "3.9.13"
  }
 },
 "nbformat": 4,
 "nbformat_minor": 5
}
